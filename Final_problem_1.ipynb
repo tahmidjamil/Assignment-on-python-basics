{
  "nbformat": 4,
  "nbformat_minor": 0,
  "metadata": {
    "colab": {
      "provenance": []
    },
    "kernelspec": {
      "name": "python3",
      "display_name": "Python 3"
    },
    "language_info": {
      "name": "python"
    }
  },
  "cells": [
    {
      "cell_type": "markdown",
      "source": [
        "Assignment \n",
        "\n",
        "1)"
      ],
      "metadata": {
        "id": "RpVjjjjQCViw"
      }
    },
    {
      "cell_type": "code",
      "execution_count": 1,
      "metadata": {
        "colab": {
          "base_uri": "https://localhost:8080/"
        },
        "id": "MTAagjs08XZ4",
        "outputId": "35cfd9a0-6af0-4662-be0d-1e526c8695d6"
      },
      "outputs": [
        {
          "output_type": "stream",
          "name": "stdout",
          "text": [
            "{'g': 2, 'o': 3, 'l': 1, 'e': 1, '.': 1, 'c': 1, 'm': 1}\n"
          ]
        }
      ],
      "source": [
        "input_str = \"google.com\"\n",
        "char_count = {}\n",
        "for char in input_str:\n",
        "    if char in char_count:\n",
        "        char_count[char] += 1\n",
        "    else:\n",
        "        char_count[char] = 1\n",
        "\n",
        "print(char_count)"
      ]
    },
    {
      "cell_type": "markdown",
      "source": [
        "2)\n"
      ],
      "metadata": {
        "id": "GufTs5W3Cd-1"
      }
    },
    {
      "cell_type": "code",
      "source": [
        "def check_key_in_dict(input_dict, key):\n",
        "    if key in input_dict:\n",
        "        return True\n",
        "    else:\n",
        "        return False\n",
        "\n",
        "sample_dict = {'g': 2, 'o': 3, 'l': 1, 'e': 1, '.': 1, 'c': 1, 'm': 1}\n",
        "key_to_check = 'b'\n",
        "\n",
        "if check_key_in_dict(sample_dict, key_to_check):\n",
        "    print(f\"The key '{key_to_check}' already exists in the dictionary\")\n",
        "else:\n",
        "    print(f\"The key '{key_to_check}' does not exist in the dictionary\")"
      ],
      "metadata": {
        "colab": {
          "base_uri": "https://localhost:8080/"
        },
        "id": "m3iPZO3pCCep",
        "outputId": "78746a2d-14c7-4ebd-fe23-24421620dad3"
      },
      "execution_count": 3,
      "outputs": [
        {
          "output_type": "stream",
          "name": "stdout",
          "text": [
            "The key 'b' does not exist in the dictionary\n"
          ]
        }
      ]
    },
    {
      "cell_type": "markdown",
      "source": [
        "3)"
      ],
      "metadata": {
        "id": "F8Bx5A8xCtla"
      }
    },
    {
      "cell_type": "code",
      "source": [
        "input_str = input(\"Enter a sequence of numbers: \")\n",
        "\n",
        "num_list = input_str.split(\",\")\n",
        "num_tuple = tuple(num_list)\n",
        "\n",
        "\n",
        "print(\"List:\", num_list)\n",
        "print(\"Tuple:\", num_tuple)"
      ],
      "metadata": {
        "colab": {
          "base_uri": "https://localhost:8080/"
        },
        "id": "UqDhwQFRCvAe",
        "outputId": "877fe8f4-2081-486c-8783-7c99ad2c47b4"
      },
      "execution_count": 5,
      "outputs": [
        {
          "output_type": "stream",
          "name": "stdout",
          "text": [
            "Enter a sequence of comma-separated numbers: 1,3,66,45,18,,12\n",
            "List: ['1', '3', '66', '45', '18', '', '12']\n",
            "Tuple: ('1', '3', '66', '45', '18', '', '12')\n"
          ]
        }
      ]
    },
    {
      "cell_type": "markdown",
      "source": [
        "4)"
      ],
      "metadata": {
        "id": "GhUGFleGDd_2"
      }
    },
    {
      "cell_type": "code",
      "source": [
        "from datetime import datetime\n",
        "\n",
        "start_date_str = input(\"Enter the start date (in YYYY-MM-DD format): \")\n",
        "end_date_str = input(\"Enter the end date (in YYYY-MM-DD format): \")\n",
        "\n",
        "start_date = datetime.strptime(start_date_str, \"%Y-%m-%d\")\n",
        "end_date = datetime.strptime(end_date_str, \"%Y-%m-%d\")\n",
        "\n",
        "# calculate the number of days between the dates considering date differences as absolute values\n",
        "num_days = abs((end_date - start_date).days)\n",
        "\n",
        "\n",
        "print(f\"Number of days between {start_date_str} and {end_date_str}: {num_days} days\")\n"
      ],
      "metadata": {
        "colab": {
          "base_uri": "https://localhost:8080/"
        },
        "id": "VObAl6O8De9i",
        "outputId": "5bfd066f-1449-4721-8c70-d273f936f212"
      },
      "execution_count": 7,
      "outputs": [
        {
          "output_type": "stream",
          "name": "stdout",
          "text": [
            "Enter the start date (in YYYY-MM-DD format): 2022-12-3\n",
            "Enter the end date (in YYYY-MM-DD format): 2012-10-3\n",
            "Number of days between 2022-12-3 and 2012-10-3: 3713 days\n"
          ]
        }
      ]
    },
    {
      "cell_type": "markdown",
      "source": [
        "5)"
      ],
      "metadata": {
        "id": "H-pT2nVwElM6"
      }
    },
    {
      "cell_type": "code",
      "source": [
        "x = float(input(\"Enter the value of x: \"))\n",
        "y = float(input(\"Enter the value of y: \"))\n",
        "\n",
        "result = (x + y) * (x + y)\n",
        "\n",
        "print(f\"The result of ({x} + {y})^2 is {result}\")"
      ],
      "metadata": {
        "colab": {
          "base_uri": "https://localhost:8080/"
        },
        "id": "vd9s7bPIEm1k",
        "outputId": "953cb41a-2fbc-4b45-e60a-d47e04acae7d"
      },
      "execution_count": 8,
      "outputs": [
        {
          "output_type": "stream",
          "name": "stdout",
          "text": [
            "Enter the value of x: 45\n",
            "Enter the value of y: 34\n",
            "The result of (45.0 + 34.0)^2 is 6241.0\n"
          ]
        }
      ]
    },
    {
      "cell_type": "markdown",
      "source": [
        "6)"
      ],
      "metadata": {
        "id": "ikc33ILQE9RD"
      }
    },
    {
      "cell_type": "code",
      "source": [
        "principat = float(input(\"Enter the principal amount: \"))\n",
        "rate = float(input(\"Enter the annual interest rate (%): \"))\n",
        "years = int(input(\"Enter the number of years: \"))\n",
        "\n",
        "future_value = principal * (1 + rate/100) ** years\n",
        "\n",
        "print(f\"The future value is {future_value:.2f}\")\n"
      ],
      "metadata": {
        "colab": {
          "base_uri": "https://localhost:8080/"
        },
        "id": "O_LbjVsKFNfc",
        "outputId": "89315d57-e770-4fb4-9d6d-9e7fa582036f"
      },
      "execution_count": 9,
      "outputs": [
        {
          "output_type": "stream",
          "name": "stdout",
          "text": [
            "Enter the principal amount: 1255423\n",
            "Enter the annual interest rate (%): 3\n",
            "Enter the number of years: 56\n",
            "The future value is 6571653.62\n"
          ]
        }
      ]
    },
    {
      "cell_type": "markdown",
      "source": [
        "7)"
      ],
      "metadata": {
        "id": "Mb_GuTawFrVC"
      }
    },
    {
      "cell_type": "code",
      "source": [
        "def remove_duplicates(nums):\n",
        "    unique_nums = list(set(nums))\n",
        "    return unique_nums, len(unique_nums)\n",
        "\n",
        "\n",
        "numbers = [0, 0, 1, 1, 2, 2, 3, 3, 4, 4, 4]\n",
        "unique_numbers, new_length = remove_duplicates(numbers)\n",
        "print(f\"The list of unique numbers: {unique_numbers}\")\n",
        "print(f\"The new length of the array is {new_length}\")"
      ],
      "metadata": {
        "colab": {
          "base_uri": "https://localhost:8080/"
        },
        "id": "k5CfMMWYFq3C",
        "outputId": "36592c08-f4f6-440e-892d-bb9f66b7845c"
      },
      "execution_count": 10,
      "outputs": [
        {
          "output_type": "stream",
          "name": "stdout",
          "text": [
            "The list of unique numbers: [0, 1, 2, 3, 4]\n",
            "The new length of the array is 5\n"
          ]
        }
      ]
    },
    {
      "cell_type": "markdown",
      "source": [
        "8)"
      ],
      "metadata": {
        "id": "laozbppgHKaE"
      }
    },
    {
      "cell_type": "code",
      "source": [
        "sample_dict = {'b': 2, 'c': 1, 'a': 3}\n",
        "\n",
        "# Sort by key in ascending order\n",
        "sorted_dict = dict(sorted(sample_dict.items()))\n",
        "\n",
        "print(sorted_dict)\n",
        "\n",
        "# Sort by key in descending order\n",
        "sorted_dict = dict(sorted(sample_dict.items(), reverse=True))\n",
        "\n",
        "print(sorted_dict)\n"
      ],
      "metadata": {
        "colab": {
          "base_uri": "https://localhost:8080/"
        },
        "id": "ZYtkoeSgHMV4",
        "outputId": "f08bfc58-90e5-4225-cd50-7638355189ac"
      },
      "execution_count": 12,
      "outputs": [
        {
          "output_type": "stream",
          "name": "stdout",
          "text": [
            "{'a': 3, 'b': 2, 'c': 1}\n",
            "{'c': 1, 'b': 2, 'a': 3}\n"
          ]
        }
      ]
    },
    {
      "cell_type": "markdown",
      "source": [
        "9)"
      ],
      "metadata": {
        "id": "gl7LidcSG9-Y"
      }
    },
    {
      "cell_type": "code",
      "source": [
        "sample_dict = {0: 10, 1: 20}\n",
        "key = 2\n",
        "value = 30\n",
        "\n",
        "sample_dict[key] = value\n",
        "\n",
        "print(sample_dict)\n"
      ],
      "metadata": {
        "colab": {
          "base_uri": "https://localhost:8080/"
        },
        "id": "y-i5FcUTG454",
        "outputId": "5e3d2b7a-3a50-4a6c-e9d5-781b4fa19c63"
      },
      "execution_count": 11,
      "outputs": [
        {
          "output_type": "stream",
          "name": "stdout",
          "text": [
            "{0: 10, 1: 20, 2: 30}\n"
          ]
        }
      ]
    },
    {
      "cell_type": "markdown",
      "source": [
        "10)"
      ],
      "metadata": {
        "id": "3r8I_ltnHgfj"
      }
    },
    {
      "cell_type": "code",
      "source": [
        "import pandas as pd\n",
        "import numpy as np\n",
        "\n",
        "\n",
        "exam_data = {'name': ['Arif', 'Asir', 'Arik', 'Anis', 'Anil', 'Ashish', 'Anahi', 'Alia', 'Alvin', 'Asim'],\n",
        "             'score': [12.5, 9, 16.5, np.nan, 9, 20, 14.5, np.nan, 8, 19], \n",
        "             'attempts': [1, 3, 2, 3, 2, 3, 1, 1, 2, 1], \n",
        "             'qualify': ['yes', 'no', 'yes', 'no', 'no', 'yes', 'yes', 'no', 'no', 'yes']}\n",
        "labels = ['a', 'b', 'c', 'd', 'e', 'f', 'g', 'h', 'i', 'j']\n",
        "\n",
        "\n",
        "df = pd.DataFrame(exam_data, index=labels)\n",
        "\n",
        "\n",
        "print(df)\n"
      ],
      "metadata": {
        "colab": {
          "base_uri": "https://localhost:8080/"
        },
        "id": "ShSCPAwiHhpx",
        "outputId": "2897a067-93d1-4db7-f5b0-96e922389e10"
      },
      "execution_count": 13,
      "outputs": [
        {
          "output_type": "stream",
          "name": "stdout",
          "text": [
            "     name  score  attempts qualify\n",
            "a    Arif   12.5         1     yes\n",
            "b    Asir    9.0         3      no\n",
            "c    Arik   16.5         2     yes\n",
            "d    Anis    NaN         3      no\n",
            "e    Anil    9.0         2      no\n",
            "f  Ashish   20.0         3     yes\n",
            "g   Anahi   14.5         1     yes\n",
            "h    Alia    NaN         1      no\n",
            "i   Alvin    8.0         2      no\n",
            "j    Asim   19.0         1     yes\n"
          ]
        }
      ]
    }
  ]
}